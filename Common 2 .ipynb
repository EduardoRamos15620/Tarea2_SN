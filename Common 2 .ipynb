{
 "cells": [
  {
   "cell_type": "markdown",
   "metadata": {},
   "source": [
    "# Resumen 2 \n",
    "## Python convirtiendose en el lenguaje de codificación más popular \n",
    "Python está a punto de superar a todos sus rivales y es el favorito de las personas que lo utilizan. Pyhton es algo que se busca más en google que kin kardashian. El número de descargas se ha triplicado, mientras los otros van en declive.\n",
    "Las dos principales ventajas del lenguaje son su simplicidad y flexibilidad. Su sintaxis sencilla y el uso de espacios con sangría facilitan el aprendizaje, la lectura y el uso compartido.  Esta versatilidad significa que la Agencia Central de Inteligencia lo ha utilizado para la piratería, Google para rastrear páginas web, Pixar para producir películas y Spotify para recomendar canciones. \n",
    "Python podría convertirse en el lenguaje de la codificación, dejando obsoletas a todos los demás competidores. Eso es poco probable, según Grady Booch, el científico jefe de software de IBM, que compara los lenguajes de programación con los imperios. Aunque a veces una potencia en ascenso podría estar lista para la dominación mundial, sus rivales generalmente sobreviven en los nichos técnicos y culturales en los que surgieron."
   ]
  }
 ],
 "metadata": {
  "kernelspec": {
   "display_name": "Python 3",
   "language": "python",
   "name": "python3"
  },
  "language_info": {
   "codemirror_mode": {
    "name": "ipython",
    "version": 3
   },
   "file_extension": ".py",
   "mimetype": "text/x-python",
   "name": "python",
   "nbconvert_exporter": "python",
   "pygments_lexer": "ipython3",
   "version": "3.7.1"
  }
 },
 "nbformat": 4,
 "nbformat_minor": 2
}
