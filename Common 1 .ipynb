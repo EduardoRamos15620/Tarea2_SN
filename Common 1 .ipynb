{
 "cells": [
  {
   "cell_type": "markdown",
   "metadata": {},
   "source": [
    "# Tarea2SM\n",
    "Tarea 2 \n",
    "# Resumen 1 \n",
    "## La expasión de Python \n",
    "Guido van Rossum, es holandés, el creador de python. Molesto por las deficiencias en otros lenguajes de programación, quería construir el suyo. Sus principios eran simples. En primer lugar, debe ser fácil de leer. En lugar de dividirse en las terminaciones de línea y ser roto por una maraña de llaves, cada trozo estaría rodeado de espacios en blanco con sangría. En segundo lugar, debe permitir a los usuarios crear sus propios paquetes de módulos de codificación de propósito especial, que luego podrían ponerse a disposición de otros para formar la base de nuevos programas. Por lo tanto, lo llamó después de Monty Python, un grupo de comedia británico. El repositorio de paquetes se conoció como Cheese Shop.\n",
    "Casi 30 años después de su invento navideño, el Sr. Van Rossum se asemeja a una versión tecnológica del personaje de Monty Python que accidentalmente se convirtió en el Mesías en la película \"Life of Brian\". Pero en los últimos 12 meses, los usuarios de Google en Estados Unidos han buscado Python más a menudo que para Kim Kardashian, una estrella de la televisión de realidad. La tasa de consultas se ha triplicado desde 2010, mientras que las consultas posteriores a otros lenguajes de programación han sido planas o decrecientes."
   ]
  }
 ],
 "metadata": {
  "kernelspec": {
   "display_name": "Python 3",
   "language": "python",
   "name": "python3"
  },
  "language_info": {
   "codemirror_mode": {
    "name": "ipython",
    "version": 3
   },
   "file_extension": ".py",
   "mimetype": "text/x-python",
   "name": "python",
   "nbconvert_exporter": "python",
   "pygments_lexer": "ipython3",
   "version": "3.7.1"
  }
 },
 "nbformat": 4,
 "nbformat_minor": 2
}
